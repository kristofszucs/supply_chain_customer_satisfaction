{
 "cells": [
  {
   "cell_type": "code",
   "execution_count": 10,
   "id": "b4235192",
   "metadata": {},
   "outputs": [
    {
     "data": {
      "text/html": [
       "<style>.container { width:100% !important; }</style>"
      ],
      "text/plain": [
       "<IPython.core.display.HTML object>"
      ]
     },
     "metadata": {},
     "output_type": "display_data"
    }
   ],
   "source": [
    "from IPython.display import display, HTML\n",
    "import pandas as pd\n",
    "import numpy as np\n",
    "import warnings\n",
    "\n",
    "warnings.filterwarnings('ignore')\n",
    "display(HTML(\"<style>.container { width:100% !important; }</style>\"))"
   ]
  },
  {
   "cell_type": "code",
   "execution_count": 11,
   "id": "c3b5f417",
   "metadata": {},
   "outputs": [],
   "source": [
    "#import scraped data\n",
    "df = pd.read_csv(\"/Users/kristofszucs/Documents/jupyter_notebooks/projet_supply_chain_datascientest/asurion_complete.csv\")"
   ]
  },
  {
   "cell_type": "code",
   "execution_count": 12,
   "id": "19a550b6",
   "metadata": {},
   "outputs": [],
   "source": [
    "# clean chosen columns (delete extra space and lower all chars)\n",
    "def text_cleaner(column): \n",
    "    df[column] = df[column].str.lower() \\\n",
    "                            .str.strip() \\\n",
    "                            .str.replace(r'\\s+', ' ')"
   ]
  },
  {
   "cell_type": "code",
   "execution_count": 13,
   "id": "8b256501",
   "metadata": {},
   "outputs": [],
   "source": [
    "# run the text cleaner function on three specific columns\n",
    "for c in [\"titre\",\"nom\",\"comment\"]:\n",
    "    text_cleaner(c)"
   ]
  },
  {
   "cell_type": "code",
   "execution_count": 14,
   "id": "3504b81f",
   "metadata": {},
   "outputs": [],
   "source": [
    "# unique cleaning steps for different columns\n",
    "df[\"nom\"] = df[\"nom\"].str.replace(\".\",\"\")\n",
    "df[\"stars\"] = df[\"stars\"].str[6]\n",
    "df[\"nb_reviews\"] = df[\"nb_reviews\"].str[0]\n",
    "df[\"date_experience\"] = df[\"date_experience\"].str.replace(\"Date of experience: \",\"\")\n",
    "df[\"date_review\"] = pd.to_datetime(df[\"date_review\"])\n",
    "df[\"date_experience\"] = pd.to_datetime(df[\"date_experience\"])"
   ]
  },
  {
   "cell_type": "code",
   "execution_count": 15,
   "id": "d1b6e4d2",
   "metadata": {},
   "outputs": [],
   "source": [
    "df = df.dropna()"
   ]
  },
  {
   "cell_type": "code",
   "execution_count": 16,
   "id": "7735a2d8",
   "metadata": {},
   "outputs": [
    {
     "data": {
      "text/plain": [
       "titre              0\n",
       "nom                0\n",
       "stars              0\n",
       "localisation       0\n",
       "nb_reviews         0\n",
       "date_review        0\n",
       "date_experience    0\n",
       "comment            0\n",
       "dtype: int64"
      ]
     },
     "execution_count": 16,
     "metadata": {},
     "output_type": "execute_result"
    }
   ],
   "source": [
    "df.isna().sum()"
   ]
  },
  {
   "cell_type": "code",
   "execution_count": 19,
   "id": "e5aa7cb8",
   "metadata": {},
   "outputs": [
    {
     "data": {
      "text/plain": [
       "titre                                            i cracked my screen\n",
       "nom                                                              nan\n",
       "stars                                                              5\n",
       "localisation                                                      US\n",
       "nb_reviews                                                         1\n",
       "date_review                                2022-05-04 21:16:19+00:00\n",
       "date_experience                                  2022-05-04 00:00:00\n",
       "comment            i cracked my screen. it was very easy. i dropp...\n",
       "Name: 13249, dtype: object"
      ]
     },
     "execution_count": 19,
     "metadata": {},
     "output_type": "execute_result"
    }
   ],
   "source": [
    "df.iloc[11421,:]"
   ]
  },
  {
   "cell_type": "code",
   "execution_count": 20,
   "id": "2cee7f63",
   "metadata": {},
   "outputs": [
    {
     "name": "stdout",
     "output_type": "stream",
     "text": [
      "<class 'pandas.core.frame.DataFrame'>\n",
      "Int64Index: 72896 entries, 0 to 91772\n",
      "Data columns (total 8 columns):\n",
      " #   Column           Non-Null Count  Dtype              \n",
      "---  ------           --------------  -----              \n",
      " 0   titre            72896 non-null  object             \n",
      " 1   nom              72896 non-null  object             \n",
      " 2   stars            72896 non-null  object             \n",
      " 3   localisation     72896 non-null  object             \n",
      " 4   nb_reviews       72896 non-null  object             \n",
      " 5   date_review      72896 non-null  datetime64[ns, UTC]\n",
      " 6   date_experience  72896 non-null  datetime64[ns]     \n",
      " 7   comment          72896 non-null  object             \n",
      "dtypes: datetime64[ns, UTC](1), datetime64[ns](1), object(6)\n",
      "memory usage: 5.0+ MB\n"
     ]
    }
   ],
   "source": [
    "df.info()"
   ]
  },
  {
   "cell_type": "code",
   "execution_count": 17,
   "id": "02192f25",
   "metadata": {},
   "outputs": [],
   "source": [
    "# output a cleaner version of our data\n",
    "df.to_csv('asurion_preprocess.csv',index=False)"
   ]
  }
 ],
 "metadata": {
  "kernelspec": {
   "display_name": "Python 3 (ipykernel)",
   "language": "python",
   "name": "python3"
  },
  "language_info": {
   "codemirror_mode": {
    "name": "ipython",
    "version": 3
   },
   "file_extension": ".py",
   "mimetype": "text/x-python",
   "name": "python",
   "nbconvert_exporter": "python",
   "pygments_lexer": "ipython3",
   "version": "3.9.12"
  }
 },
 "nbformat": 4,
 "nbformat_minor": 5
}
